{
 "cells": [
  {
   "cell_type": "markdown",
   "metadata": {},
   "source": [
    "# Dataset: ASAP-AES"
   ]
  },
  {
   "cell_type": "markdown",
   "metadata": {},
   "source": [
    "The ASAP-AES (Automated Student Assessment Prize - Automated Essay Scoring) dataset, available on Kaggle, is a widely used benchmark for evaluating automated essay scoring systems. It contains around 13,000 essays written by students in grades 7–10 in response to eight different prompts spanning various genres such as persuasive, narrative, and source-based writing. Each essay is scored by human raters on a holistic scale, and two prompts also include trait-level sub-scores for dimensions like content and organization. The main task is to predict human-like essay scores, with model performance evaluated using the Quadratic Weighted Kappa (QWK), which measures the level of agreement between predicted and actual scores. This dataset has become a standard in the field, supporting both classical approaches and modern neural models such as fine-tuned transformers and pairwise ranking architectures."
   ]
  },
  {
   "cell_type": "code",
   "execution_count": 1,
   "metadata": {},
   "outputs": [
    {
     "name": "stdout",
     "output_type": "stream",
     "text": [
      "Found 1783 student answers for set 1\n",
      "Found 1800 student answers for set 2\n",
      "Found 1726 student answers for set 3\n",
      "Found 1772 student answers for set 4\n",
      "Found 1805 student answers for set 5\n",
      "Found 1800 student answers for set 6\n",
      "Found 1569 student answers for set 7\n",
      "Found 723 student answers for set 8\n"
     ]
    }
   ],
   "source": [
    "from src.prompting import ASAPPromptLoader\n",
    "\n",
    "loader = ASAPPromptLoader(include_rubric=True, include_exercise_texts=True, include_exam_characteristics=True)\n",
    "all_prompts = loader.get_prompts()"
   ]
  },
  {
   "cell_type": "code",
   "execution_count": 3,
   "metadata": {},
   "outputs": [
    {
     "name": "stdout",
     "output_type": "stream",
     "text": [
      "## Exercise Characteristics\n",
      "\n",
      "Essay Type: Persuasive/Narrative/Expository\n",
      "Grade Level: 8\n",
      "Rubric Range: 1-6\n",
      "\n",
      "## Question\n",
      "\n",
      "More and more people use computers, but not everyone agrees that this benefits society. Those who support advances in technology believe that computers have a positive effect on people. They teach hand-eye coordination, give people the ability to learn about faraway places and people, and even allow people to talk online with other people. Others have different ideas. Some experts are concerned that people are spending too much time on their computers and less time exercising, enjoying nature, and interacting with family and friends. \n",
      "\n",
      "Write a letter to your local newspaper in which you state your opinion on the effects computers have on people. Persuade the readers to agree with you.\n",
      "\n",
      "## Rubric Guidelines\n",
      "\n",
      "Score Point 6: A well-developed response that takes a clear and thoughtful position and provides persuasive support. Typical elements:\n",
      "- Has fully elaborated reasons with specific details\n",
      "- Exhibits strong organization\n",
      "- Is fluent and uses sophisticated transitional language\n",
      "- May show a heightened awareness of audience\n",
      "\n",
      "Score Point 5: A developed response that takes a clear position and provides reasonably persuasive support. Typical elements:\n",
      "- Has moderately well elaborated reasons with mostly specific details\n",
      "- Exhibits generally strong organization\n",
      "- May be moderately fluent with transitional language throughout\n",
      "- May show a consistent awareness of audience\n",
      "\n",
      "Score Point 4: A somewhat-developed response that takes a position and provides adequate support. Typical elements:\n",
      "- Has adequately elaborated reasons with a mix of general and specific details\n",
      "- Shows satisfactory organization\n",
      "- May be somewhat fluent with some transitional language\n",
      "- Shows adequate awareness of audience\n",
      "\n",
      "Score Point 3: A minimally-developed response that may take a position, but with inadequate support and details. Typical elements:\n",
      "- Has reasons with minimal elaboration and more general than specific details\n",
      "- Shows some organization\n",
      "- May be awkward in parts with few transitions\n",
      "- Shows some awareness of audience\n",
      "\n",
      "Score Point 2: An under-developed response that may or may not take a position. Typical elements:\n",
      "- Contains only general reasons with unelaborated and/or list-like details\n",
      "- Shows little or no evidence of organization\n",
      "- May be awkward and confused or simplistic\n",
      "- May show little awareness of audience\n",
      "\n",
      "Score Point 1: An undeveloped response that may take a position but offers no more than very minimal support. Typical elements:\n",
      "- Contains few or vague details\n",
      "- Is awkward and fragmented\n",
      "- May be difficult to read and understand\n",
      "- May show no awareness of audience\n",
      "\n",
      "## Default Prompt\n",
      "You are an expert essay evaluator. Evaluate the following essay based on the provided rubric criteria for Essay Set #1 (Grade 8).\n",
      "\n",
      "Return your evaluation in this JSON format:\n",
      "{\n",
      "    \"score\": <number between 1-6>,\n",
      "    \"justification\": \"<brief explanation of why this score was given>\"\n",
      "}\n",
      "\n",
      "Evaluate the following essay: \n",
      "\n",
      "Dear local newspaper, I think effects computers have on people are great learning skills/affects because they give us time to chat with friends/new people, helps us learn about the globe(astronomy) and keeps us out of troble! Thing about! Dont you think so? How would you feel if your teenager is always on the phone with friends! Do you ever time to chat with your friends or buisness partner about things. Well now - there's a new way to chat the computer, theirs plenty of sites on the internet to do so: @ORGANIZATION1, @ORGANIZATION2, @CAPS1, facebook, myspace ect. Just think now while your setting up meeting with your boss on the computer, your teenager is having fun on the phone not rushing to get off cause you want to use it. How did you learn about other countrys/states outside of yours? Well I have by computer/internet, it's a new way to learn about what going on in our time! You might think your child spends a lot of time on the computer, but ask them so question about the economy, sea floor spreading or even about the @DATE1's you'll be surprise at how much he/she knows. Believe it or not the computer is much interesting then in class all day reading out of books. If your child is home on your computer or at a local library, it's better than being out with friends being fresh, or being perpressured to doing something they know isnt right. You might not know where your child is, @CAPS2 forbidde in a hospital bed because of a drive-by. Rather than your child on the computer learning, chatting or just playing games, safe and sound in your home or community place. Now I hope you have reached a point to understand and agree with me, because computers can have great effects on you or child because it gives us time to chat with friends/new people, helps us learn about the globe and believe or not keeps us out of troble. Thank you for listening.\n"
     ]
    }
   ],
   "source": [
    "print(all_prompts[0])"
   ]
  }
 ],
 "metadata": {
  "kernelspec": {
   "display_name": "mentor-eval",
   "language": "python",
   "name": "python3"
  },
  "language_info": {
   "codemirror_mode": {
    "name": "ipython",
    "version": 3
   },
   "file_extension": ".py",
   "mimetype": "text/x-python",
   "name": "python",
   "nbconvert_exporter": "python",
   "pygments_lexer": "ipython3",
   "version": "3.10.16"
  }
 },
 "nbformat": 4,
 "nbformat_minor": 2
}
